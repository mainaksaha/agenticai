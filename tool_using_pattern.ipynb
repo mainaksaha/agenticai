{
 "cells": [
  {
   "cell_type": "markdown",
   "id": "1dd488ec",
   "metadata": {},
   "source": [
    "# Single-Pass Tool-Using Agent\n",
    "\n",
    "This notebook demonstrates an agent that selects **exactly one** tool from a predefined list—**password reset**, **account unlock**, or **VM restart**—based on the user’s query, then calls it (in a **dummy** fashion). No iterative loop or multiple LLM calls are used."
   ]
  },
  {
   "cell_type": "code",
   "execution_count": null,
   "id": "946849ca",
   "metadata": {},
   "outputs": [],
   "source": [
    "# 1. Define dummy tool placeholders\n",
    "def password_reset_tool():\n",
    "    \"\"\"\n",
    "    Mock function: resets a user's password (dummy).\n",
    "    \"\"\"\n",
    "    return \"Password Reset Tool was called (dummy).\"\n",
    "\n",
    "def account_unlock_tool():\n",
    "    \"\"\"\n",
    "    Mock function: unlocks a user's account (dummy).\n",
    "    \"\"\"\n",
    "    return \"Account Unlock Tool was called (dummy).\"\n",
    "\n",
    "def vm_restart_tool():\n",
    "    \"\"\"\n",
    "    Mock function: restarts a virtual machine (dummy).\n",
    "    \"\"\"\n",
    "    return \"VM Restart Tool was called (dummy).\""
   ]
  },
  {
   "cell_type": "code",
   "execution_count": null,
   "id": "de3952af",
   "metadata": {},
   "outputs": [],
   "source": [
    "# 2. LLM adapter logic (mock)\n",
    "def call_llm_for_tool_decision(user_query):\n",
    "    \"\"\"\n",
    "    Based on the user_query, return a single tool action:\n",
    "    TOOL_ACTION:<tool_name>\n",
    "    or\n",
    "    NO_TOOL_REQUIRED\n",
    "    \"\"\"\n",
    "    lower_query = user_query.lower()\n",
    "    \n",
    "    if \"password\" in lower_query or \"reset\" in lower_query:\n",
    "        return \"TOOL_ACTION: password_reset\"\n",
    "    elif \"unlock\" in lower_query:\n",
    "        return \"TOOL_ACTION: account_unlock\"\n",
    "    elif \"restart\" in lower_query or \"vm\" in lower_query:\n",
    "        return \"TOOL_ACTION: vm_restart\"\n",
    "    else:\n",
    "        return \"NO_TOOL_REQUIRED\""
   ]
  },
  {
   "cell_type": "code",
   "execution_count": null,
   "id": "820051d9",
   "metadata": {},
   "outputs": [],
   "source": [
    "# 3. Single-pass Tool-Using Agent\n",
    "class SinglePassToolAgent:\n",
    "    def __init__(self):\n",
    "        self.conversation_log = []\n",
    "\n",
    "    def handle_user_request(self, user_query: str):\n",
    "        \"\"\"\n",
    "        1. Build a prompt (here, just the user query).\n",
    "        2. Call the LLM-like function once to decide which tool to use (or none).\n",
    "        3. If a tool is selected, do a dummy call and return that result.\n",
    "        4. If no tool is needed, return a final message.\n",
    "        \"\"\"\n",
    "        self.conversation_log.append(f\"User Query: {user_query}\")\n",
    "\n",
    "        # Single pass to LLM\n",
    "        llm_response = call_llm_for_tool_decision(user_query)\n",
    "        self.conversation_log.append(f\"LLM Response: {llm_response}\")\n",
    "\n",
    "        if \"TOOL_ACTION:\" in llm_response:\n",
    "            tool_name = llm_response.split(\"TOOL_ACTION:\")[-1].strip()\n",
    "\n",
    "            # Call the corresponding dummy tool\n",
    "            if tool_name == \"password_reset\":\n",
    "                observation = password_reset_tool()\n",
    "            elif tool_name == \"account_unlock\":\n",
    "                observation = account_unlock_tool()\n",
    "            elif tool_name == \"vm_restart\":\n",
    "                observation = vm_restart_tool()\n",
    "            else:\n",
    "                observation = f\"Unknown tool '{tool_name}'.\"\n",
    "\n",
    "            return f\"Invoked Tool: {tool_name}\\nTool Observation: {observation}\"\n",
    "\n",
    "        # If no tool is needed\n",
    "        return \"No tool needed. Please handle this request manually.\""
   ]
  },
  {
   "cell_type": "code",
   "execution_count": null,
   "id": "ae8dd846",
   "metadata": {},
   "outputs": [],
   "source": [
    "# 4. Example usage\n",
    "if __name__ == \"__main__\":\n",
    "    agent = SinglePassToolAgent()\n",
    "\n",
    "    sample_queries = [\n",
    "        \"I forgot my password and need a reset.\",\n",
    "        \"My account is locked out, please help!\",\n",
    "        \"I want to restart my VM to fix an issue.\",\n",
    "        \"How do I change my profile picture?\",\n",
    "    ]\n",
    "\n",
    "    for query in sample_queries:\n",
    "        print(f\"\\nUser Query: {query}\")\n",
    "        response = agent.handle_user_request(query)\n",
    "        print(response)"
   ]
  }
 ],
 "metadata": {
  "kernelspec": {
   "display_name": "Python 3 (ipykernel)",
   "language": "python",
   "name": "python3"
  },
  "language_info": {
   "codemirror_mode": {
    "name": "ipython",
    "version": 3
   },
   "file_extension": ".py",
   "mimetype": "text/x-python",
   "name": "python",
   "nbconvert_exporter": "python",
   "pygments_lexer": "ipython3",
   "version": "3.11.7"
  },
  "name": "single_pass_tool_agent"
 },
 "nbformat": 4,
 "nbformat_minor": 5
}
